{
 "cells": [
  {
   "cell_type": "markdown",
   "source": [
    "Aquest README serveix per a ensenyar la manera més correcte d'accedir a cada un dels colormaps que s'empleen en aquest treball de fi de grau.\n",
    "Notem que hi pot haver diferències entre ells com la normalització, el nombre de colors, etc."
   ],
   "metadata": {
    "collapsed": false
   },
   "id": "c349796a73c849fe"
  },
  {
   "cell_type": "code",
   "outputs": [],
   "source": [
    "#TODO: pendent tot"
   ],
   "metadata": {
    "collapsed": false
   },
   "id": "6a0ee02230384ed"
  }
 ],
 "metadata": {
  "kernelspec": {
   "display_name": "Python 3",
   "language": "python",
   "name": "python3"
  },
  "language_info": {
   "codemirror_mode": {
    "name": "ipython",
    "version": 2
   },
   "file_extension": ".py",
   "mimetype": "text/x-python",
   "name": "python",
   "nbconvert_exporter": "python",
   "pygments_lexer": "ipython2",
   "version": "2.7.6"
  }
 },
 "nbformat": 4,
 "nbformat_minor": 5
}
