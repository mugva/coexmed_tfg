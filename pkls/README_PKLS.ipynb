{
 "cells": [
  {
   "cell_type": "markdown",
   "source": [
    "A n'aquest notebook volem donar axplicació a les dades guardades dins els .pkl que se's guarden dins la carpeta \"pkls\".\n",
    "Es farà ús de codi per ensenyar-ne la manera d'accedir-hi i les jerarquies de cada un dels arxius."
   ],
   "metadata": {
    "collapsed": false
   },
   "id": "be6a11f8a363190d"
  },
  {
   "cell_type": "code",
   "outputs": [],
   "source": [
    "#TODO: queda pendent la realització d'aquest notebook"
   ],
   "metadata": {
    "collapsed": false
   },
   "id": "72ed740c5ea206"
  }
 ],
 "metadata": {
  "kernelspec": {
   "display_name": "Python 3",
   "language": "python",
   "name": "python3"
  },
  "language_info": {
   "codemirror_mode": {
    "name": "ipython",
    "version": 2
   },
   "file_extension": ".py",
   "mimetype": "text/x-python",
   "name": "python",
   "nbconvert_exporter": "python",
   "pygments_lexer": "ipython2",
   "version": "2.7.6"
  }
 },
 "nbformat": 4,
 "nbformat_minor": 5
}
